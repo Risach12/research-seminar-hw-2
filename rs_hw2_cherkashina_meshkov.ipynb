{
 "cells": [
  {
   "cell_type": "markdown",
   "id": "dea843de",
   "metadata": {},
   "source": [
    "# Homework information\n",
    "\n",
    "\n",
    "**Students:** Черкашина Елизавета Андреевна, Мешков Михаил Алексеевич\n",
    "\n",
    "**Master’s programme:** Data Analytics and Social Statistics\n",
    "\n",
    "**Task:**  Module 2. Hard skills project № 4 `Text analysis'\n",
    "\n",
    "**Date:** 17.12.2024  "
   ]
  },
  {
   "cell_type": "markdown",
   "id": "3d0e3e8c",
   "metadata": {},
   "source": [
    "## Import libraries"
   ]
  },
  {
   "cell_type": "code",
   "execution_count": 1,
   "id": "ffad34d9",
   "metadata": {},
   "outputs": [],
   "source": [
    "#import libraries\n",
    "import pandas as pd\n",
    "from matplotlib import pyplot as plt\n",
    "import spacy\n",
    "import seaborn as sns\n",
    "from sklearn.metrics import accuracy_score, classification_report\n",
    "from sklearn.metrics import confusion_matrix\n",
    "from sklearn.cluster import KMeans\n",
    "from sklearn.manifold import TSNE\n",
    "from sklearn.feature_extraction.text import TfidfVectorizer\n",
    "from textblob import TextBlob\n",
    "from nltk.corpus import stopwords\n",
    "from nltk.stem import WordNetLemmatizer\n",
    "from nltk.tokenize import TreebankWordTokenizer\n",
    "import nltk\n",
    "import re\n",
    "import string\n",
    "import numpy as np\n",
    "import warnings\n",
    "# disable warnings \n",
    "warnings.filterwarnings(\"ignore\")\n",
    "# making ggplot style\n",
    "plt.style.use('ggplot')"
   ]
  },
  {
   "cell_type": "markdown",
   "id": "baedc07d",
   "metadata": {},
   "source": [
    "## Task №1"
   ]
  },
  {
   "cell_type": "markdown",
   "id": "8ae71822",
   "metadata": {},
   "source": [
    "### 1.1 Load \"text\" and \"target\" columns to pandas. "
   ]
  },
  {
   "cell_type": "code",
   "execution_count": 2,
   "id": "8399b74d",
   "metadata": {},
   "outputs": [],
   "source": [
    "# import data\n",
    "data = pd.read_csv('training.1600000.processed.noemoticon.csv', \n",
    "                 encoding='latin-1', \n",
    "                 names = [\"target\", \"ids\", \"date\", \"flag\", \"user\", \"text\"])"
   ]
  },
  {
   "cell_type": "code",
   "execution_count": 3,
   "id": "f1eceb01",
   "metadata": {},
   "outputs": [
    {
     "name": "stdout",
     "output_type": "stream",
     "text": [
      "<class 'pandas.core.frame.DataFrame'>\n",
      "RangeIndex: 1600000 entries, 0 to 1599999\n",
      "Data columns (total 6 columns):\n",
      " #   Column  Non-Null Count    Dtype \n",
      "---  ------  --------------    ----- \n",
      " 0   target  1600000 non-null  int64 \n",
      " 1   ids     1600000 non-null  int64 \n",
      " 2   date    1600000 non-null  object\n",
      " 3   flag    1600000 non-null  object\n",
      " 4   user    1600000 non-null  object\n",
      " 5   text    1600000 non-null  object\n",
      "dtypes: int64(2), object(4)\n",
      "memory usage: 73.2+ MB\n"
     ]
    }
   ],
   "source": [
    "# checking informathion about data\n",
    "data.info()"
   ]
  },
  {
   "cell_type": "markdown",
   "id": "0cc5e530",
   "metadata": {},
   "source": [
    "**Conclusion:**  data loaded correctly and contain and information same as at the description.\n"
   ]
  },
  {
   "cell_type": "code",
   "execution_count": 4,
   "id": "dd95ded0",
   "metadata": {},
   "outputs": [
    {
     "data": {
      "text/html": [
       "<div>\n",
       "<style scoped>\n",
       "    .dataframe tbody tr th:only-of-type {\n",
       "        vertical-align: middle;\n",
       "    }\n",
       "\n",
       "    .dataframe tbody tr th {\n",
       "        vertical-align: top;\n",
       "    }\n",
       "\n",
       "    .dataframe thead th {\n",
       "        text-align: right;\n",
       "    }\n",
       "</style>\n",
       "<table border=\"1\" class=\"dataframe\">\n",
       "  <thead>\n",
       "    <tr style=\"text-align: right;\">\n",
       "      <th></th>\n",
       "      <th>target</th>\n",
       "      <th>text</th>\n",
       "    </tr>\n",
       "  </thead>\n",
       "  <tbody>\n",
       "    <tr>\n",
       "      <th>0</th>\n",
       "      <td>4</td>\n",
       "      <td>Going to pic quick  join?</td>\n",
       "    </tr>\n",
       "    <tr>\n",
       "      <th>1</th>\n",
       "      <td>0</td>\n",
       "      <td>urg.  i should be somewhere I really want to b...</td>\n",
       "    </tr>\n",
       "    <tr>\n",
       "      <th>2</th>\n",
       "      <td>4</td>\n",
       "      <td>Help me!!!  Chanting NO CAKE NO CAKE!! LOL BD ...</td>\n",
       "    </tr>\n",
       "    <tr>\n",
       "      <th>3</th>\n",
       "      <td>0</td>\n",
       "      <td>@AritheGenius Awww,  we still love you though EB</td>\n",
       "    </tr>\n",
       "    <tr>\n",
       "      <th>4</th>\n",
       "      <td>4</td>\n",
       "      <td>trying to find my life again</td>\n",
       "    </tr>\n",
       "  </tbody>\n",
       "</table>\n",
       "</div>"
      ],
      "text/plain": [
       "   target                                               text\n",
       "0       4                          Going to pic quick  join?\n",
       "1       0  urg.  i should be somewhere I really want to b...\n",
       "2       4  Help me!!!  Chanting NO CAKE NO CAKE!! LOL BD ...\n",
       "3       0   @AritheGenius Awww,  we still love you though EB\n",
       "4       4                      trying to find my life again "
      ]
     },
     "execution_count": 4,
     "metadata": {},
     "output_type": "execute_result"
    }
   ],
   "source": [
    "# filter the columns we'll be working with\n",
    "data_filtered = data[[\"target\", \"text\"]]\n",
    "# filter the random 1000 rows and making final df for work\n",
    "df = data_filtered.sample(n=1000, random_state=42425).reset_index(drop=True)\n",
    "# take a look at final df\n",
    "df.head()"
   ]
  },
  {
   "cell_type": "markdown",
   "id": "0a8561eb",
   "metadata": {},
   "source": [
    "**Conclusion:**  data frame for work have been made."
   ]
  },
  {
   "cell_type": "markdown",
   "id": "916c7e70",
   "metadata": {},
   "source": [
    "### 1.2 Compute average text length, and dictionary size. "
   ]
  },
  {
   "cell_type": "code",
   "execution_count": 5,
   "id": "302a77a7",
   "metadata": {
    "scrolled": true
   },
   "outputs": [],
   "source": [
    "# load model\n",
    "nlp = spacy.load(\"en_core_web_trf\")"
   ]
  },
  {
   "cell_type": "code",
   "execution_count": 6,
   "id": "734a8d13",
   "metadata": {},
   "outputs": [],
   "source": [
    "# making anonymous function to find tokens\n",
    "df['tokens'] = df['text'].apply(lambda x: [token.text.lower() \n",
    "                                           for token in nlp(x) \n",
    "                                           if token.is_alpha])\n",
    "\n",
    "# calculate average text length\n",
    "total_length = df['tokens'].apply(len).sum()\n",
    "average_length = total_length / len(df)\n",
    "\n",
    "# finding unique tokens\n",
    "unique_tokens = set(token for tokens in df['tokens'] for token in tokens)\n",
    "dictionary_size = len(unique_tokens)"
   ]
  },
  {
   "cell_type": "code",
   "execution_count": 7,
   "id": "7cca6efc",
   "metadata": {},
   "outputs": [
    {
     "name": "stdout",
     "output_type": "stream",
     "text": [
      "\u001b[1mConclusion:\u001b[0m\n",
      "Average text length: 11.97 tokens\n",
      "Dictionary size: 2914 tokens\n"
     ]
    }
   ],
   "source": [
    "print (\"\\033[1mConclusion:\\033[0m\")\n",
    "print(f\"Average text length: {average_length:.2f} tokens\")\n",
    "print(f\"Dictionary size: {dictionary_size} tokens\")"
   ]
  },
  {
   "cell_type": "markdown",
   "id": "c8055582",
   "metadata": {},
   "source": [
    "## Task №2"
   ]
  },
  {
   "cell_type": "markdown",
   "id": "0f1430f3",
   "metadata": {},
   "source": [
    "In this section we are conducting our sentiment analysis. We chose to use the \n",
    "textblob pretrained model and preprocessed the data with spacy. \n",
    "We use textblob to produce negative/positive sentiment classification, \n",
    "which correlates well with our \"target\" column for easier comparison later on. \n",
    "Compared to some tools for sentiment analysis from spacy or other packages, \n",
    "this model is usually more accurate and convenient to use."
   ]
  },
  {
   "cell_type": "markdown",
   "id": "25cc9045",
   "metadata": {},
   "source": [
    "For this task and tasks 6 and 7 we are preprocessing our tweets since the \n",
    "functions used for these tasks do not perform these changes automatically. This\n",
    "is needed because tweets have a lot of special characters and words that are\n",
    "difficult for the model to interpret."
   ]
  },
  {
   "cell_type": "code",
   "execution_count": 8,
   "id": "d3d26009",
   "metadata": {},
   "outputs": [],
   "source": [
    "# preprocessing\n",
    "# !for first use, uncomment these commands!\n",
    "#nltk.download('stopwords')\n",
    "#nltk.download('punkt', force=True)\n",
    "#nltk.download('wordnet')\n",
    "\n",
    "stop_words = set(stopwords.words('english'))\n",
    "lemmatizer = WordNetLemmatizer()\n",
    "tokenizer = TreebankWordTokenizer()\n",
    "\n",
    "def preprocess_tweet(tweet):\n",
    "    # removing URLs\n",
    "    tweet = re.sub(r\"http\\S+|www\\S+|https\\S+\", \"\", tweet, flags=re.MULTILINE)\n",
    "    # removing mentions and hashtags\n",
    "    tweet = re.sub(r\"@\\w+|#\\w+\", \"\", tweet)\n",
    "    # removing punctuation and special characters\n",
    "    tweet = tweet.translate(str.maketrans(\"\", \"\", string.punctuation))\n",
    "    # removing numbers\n",
    "    tweet = re.sub(r\"\\d+\", \"\", tweet)\n",
    "    # converting text to lowercase\n",
    "    tweet = tweet.lower()\n",
    "    # tokenizing the tweet\n",
    "    words = tokenizer.tokenize(tweet)\n",
    "    # removing stopwords and lemmatize words\n",
    "    processed_words = [\n",
    "        lemmatizer.lemmatize(word) for word in words \\\n",
    "        if word not in stop_words and len(word) > 1\n",
    "    ]\n",
    "    # joining words back into a single string\n",
    "    return \" \".join(processed_words)\n",
    "\n",
    "df[\"processed_text\"] = df[\"text\"].apply(preprocess_tweet)"
   ]
  },
  {
   "cell_type": "code",
   "execution_count": 9,
   "id": "11623896",
   "metadata": {},
   "outputs": [
    {
     "data": {
      "image/png": "[encoded data removed]",
      "text/plain": [
       "<Figure size 500x300 with 1 Axes>"
      ]
     },
     "metadata": {},
     "output_type": "display_data"
    }
   ],
   "source": [
    "# target column values (sentiment) count \n",
    "plt.figure(figsize=(5, 3))\n",
    "sns.countplot(x='target', data=df)\n",
    "plt.show()"
   ]
  },
  {
   "cell_type": "markdown",
   "id": "7f97eceb",
   "metadata": {},
   "source": [
    "As we can see from the graph, the dataset has no tweets with neutral (target=2)\n",
    "sentiment. Thus, our model will be classifying tweets as positive and negative."
   ]
  },
  {
   "cell_type": "code",
   "execution_count": 10,
   "id": "95a78a73",
   "metadata": {},
   "outputs": [],
   "source": [
    "# spacy/textblob sentiment analysis\n",
    "\n",
    "# sentiment classification function\n",
    "def get_sentiment(tweet):\n",
    "    # textblob for sentiment polarity\n",
    "    blob = TextBlob(tweet)\n",
    "    polarity = blob.sentiment.polarity  # polarity range is from -1 to 1 \n",
    "    if polarity > 0:\n",
    "        return \"Positive\"\n",
    "    else:\n",
    "        return \"Negative\"\n",
    "\n",
    "# applying sentiment function\n",
    "df[\"sentiment\"] = df[\"processed_text\"].apply(get_sentiment)"
   ]
  },
  {
   "cell_type": "code",
   "execution_count": 11,
   "id": "c83f18e2",
   "metadata": {},
   "outputs": [
    {
     "data": {
      "image/png": "[encoded data removed]",
      "text/plain": [
       "<Figure size 500x300 with 1 Axes>"
      ]
     },
     "metadata": {},
     "output_type": "display_data"
    }
   ],
   "source": [
    "# sentiment distribution for TextBlob results\n",
    "# number of tweets of each sentiment\n",
    "sentiment_counts = df[\"sentiment\"].value_counts()\n",
    "\n",
    "# Plot the sentiment distribution using a bar chart\n",
    "plt.figure(figsize=(5, 3))\n",
    "sns.barplot(x=sentiment_counts.index, y=sentiment_counts.values, \n",
    "            palette=\"coolwarm\")\n",
    "plt.title(\"Sentiment Distribution in Tweets (TextBlob)\", \n",
    "          fontsize=14)\n",
    "plt.xlabel(\"Sentiment\", fontsize=12)\n",
    "plt.ylabel(\"Count\", fontsize=12)\n",
    "plt.xticks(fontsize=10)\n",
    "plt.yticks(fontsize=10)\n",
    "plt.show()"
   ]
  },
  {
   "cell_type": "markdown",
   "id": "ed7b3044",
   "metadata": {},
   "source": [
    "From the graph we can see that the model classified more tweets as negative,\n",
    "while the target-indicated sentiments have almost equal number of negative and \n",
    "positive tweets. This gives us an idea that the model did not perform perfectly,\n",
    "which we will check in the next section."
   ]
  },
  {
   "cell_type": "markdown",
   "id": "16035f92",
   "metadata": {},
   "source": [
    "## Task №3"
   ]
  },
  {
   "cell_type": "markdown",
   "id": "8bca0c23",
   "metadata": {},
   "source": [
    "In this part we are comparing our model's sentiment analysis results with the\n",
    "\"target\" column provided in the original dataset. While the \"target\" column can\n",
    "have three possible values: 0 for negative, 2 for neutral, and 4 for positive \n",
    "tweets, in fact there are only negative and positive tweets, as discussed in the\n",
    "previous section."
   ]
  },
  {
   "cell_type": "code",
   "execution_count": 12,
   "id": "a4cfc47d",
   "metadata": {},
   "outputs": [
    {
     "name": "stdout",
     "output_type": "stream",
     "text": [
      "Accuracy: 60.90%\n",
      "\n",
      "Classification Report:\n",
      "               precision    recall  f1-score   support\n",
      "\n",
      "    Negative       0.59      0.71      0.64       503\n",
      "    Positive       0.63      0.51      0.57       497\n",
      "\n",
      "    accuracy                           0.61      1000\n",
      "   macro avg       0.61      0.61      0.60      1000\n",
      "weighted avg       0.61      0.61      0.61      1000\n",
      "\n"
     ]
    }
   ],
   "source": [
    "# mapping target numeric values \n",
    "sentiment_mapping = {0: \"Negative\", 4: \"Positive\"}\n",
    "df[\"target_map\"] = df[\"target\"].map(sentiment_mapping)\n",
    "\n",
    "# comparing sentiment results to the target\n",
    "accuracy = accuracy_score(df[\"target_map\"], df[\"sentiment\"])\n",
    "print(f\"Accuracy: {accuracy * 100:.2f}%\")\n",
    "\n",
    "# report on accuracy\n",
    "report = classification_report(\n",
    "    df[\"target_map\"], \n",
    "    df[\"sentiment\"], \n",
    "    target_names=[\"Negative\", \"Positive\"]\n",
    ")\n",
    "print(\"\\nClassification Report:\\n\", report)"
   ]
  },
  {
   "cell_type": "code",
   "execution_count": 13,
   "id": "aeb4ac29",
   "metadata": {},
   "outputs": [
    {
     "data": {
      "image/png": "[encoded data removed]",
      "text/plain": [
       "<Figure size 500x300 with 2 Axes>"
      ]
     },
     "metadata": {},
     "output_type": "display_data"
    }
   ],
   "source": [
    "# confusion matrix\n",
    "conf_matrix = confusion_matrix(df[\"target_map\"], df[\"sentiment\"], \n",
    "                               labels=[\"Negative\", \"Positive\"])\n",
    "conf_labels = [\"Negative\", \"Positive\"]\n",
    "\n",
    "# Visualizing the Confusion Matrix\n",
    "plt.figure(figsize=(5, 3))\n",
    "sns.heatmap(conf_matrix, annot=True, fmt=\"d\", cmap=\"Reds\", \n",
    "            xticklabels=conf_labels, yticklabels=conf_labels)\n",
    "plt.xlabel(\"Predicted Sentiments\")\n",
    "plt.ylabel(\"Actual Sentiments\")\n",
    "plt.title(\"Confusion Matrix for Sentiment Analysis\")\n",
    "plt.show()"
   ]
  },
  {
   "cell_type": "markdown",
   "id": "84ee10fb",
   "metadata": {},
   "source": [
    "Overall, the accuracy of the model's analysis is around 60%.\n",
    "Based on the results we can conclude that the model is moderately accurate with\n",
    "negative and positive sentiment classification. This can be explained by the \n",
    "fact that vocabulary that people use on social media and on twitter specifically\n",
    "can be very different from the vocabulary used in the data that was used to \n",
    "train the model."
   ]
  },
  {
   "cell_type": "markdown",
   "id": "204794f4",
   "metadata": {},
   "source": [
    "## Task №4"
   ]
  },
  {
   "cell_type": "markdown",
   "id": "7bd7e7e8",
   "metadata": {},
   "source": [
    "For finding all persons and organizations in positive tweets, we will use spaCy.\n",
    "\n",
    "The spaCy model \"en_core_web_sm\" contains information about entities. \n",
    "By using it, we can find organizations or persons in tweets."
   ]
  },
  {
   "cell_type": "code",
   "execution_count": 14,
   "id": "f46a1914",
   "metadata": {},
   "outputs": [],
   "source": [
    "# filter df by only positive tweets\n",
    "df_pos = df[df[\"sentiment\"] == \"Positive\"]"
   ]
  },
  {
   "cell_type": "code",
   "execution_count": 15,
   "id": "3fab9e4a",
   "metadata": {
    "scrolled": false
   },
   "outputs": [
    {
     "data": {
      "text/html": [
       "<div>\n",
       "<style scoped>\n",
       "    .dataframe tbody tr th:only-of-type {\n",
       "        vertical-align: middle;\n",
       "    }\n",
       "\n",
       "    .dataframe tbody tr th {\n",
       "        vertical-align: top;\n",
       "    }\n",
       "\n",
       "    .dataframe thead th {\n",
       "        text-align: right;\n",
       "    }\n",
       "</style>\n",
       "<table border=\"1\" class=\"dataframe\">\n",
       "  <thead>\n",
       "    <tr style=\"text-align: right;\">\n",
       "      <th></th>\n",
       "      <th>entity</th>\n",
       "      <th>entity_type</th>\n",
       "    </tr>\n",
       "  </thead>\n",
       "  <tbody>\n",
       "    <tr>\n",
       "      <th>0</th>\n",
       "      <td>urg</td>\n",
       "      <td>PERSON</td>\n",
       "    </tr>\n",
       "    <tr>\n",
       "      <th>1</th>\n",
       "      <td>BD</td>\n",
       "      <td>ORG</td>\n",
       "    </tr>\n",
       "    <tr>\n",
       "      <th>2</th>\n",
       "      <td>@AritheGenius</td>\n",
       "      <td>PERSON</td>\n",
       "    </tr>\n",
       "    <tr>\n",
       "      <th>3</th>\n",
       "      <td>EB</td>\n",
       "      <td>PERSON</td>\n",
       "    </tr>\n",
       "    <tr>\n",
       "      <th>4</th>\n",
       "      <td>@mitchelmusso</td>\n",
       "      <td>PERSON</td>\n",
       "    </tr>\n",
       "  </tbody>\n",
       "</table>\n",
       "</div>"
      ],
      "text/plain": [
       "          entity entity_type\n",
       "0            urg      PERSON\n",
       "1             BD         ORG\n",
       "2  @AritheGenius      PERSON\n",
       "3             EB      PERSON\n",
       "4  @mitchelmusso      PERSON"
      ]
     },
     "execution_count": 15,
     "metadata": {},
     "output_type": "execute_result"
    }
   ],
   "source": [
    "def entities_in_texts(df):\n",
    "    # list to store new rows\n",
    "    expanded_rows = []\n",
    "# iterate over each row in the df\n",
    "    for _, row in df.iterrows():\n",
    "        text = row['text']  # extract text from the current row\n",
    "        doc = nlp(text)     # process the text with the NLP model\n",
    "# find entities in the processed text\n",
    "        for ent in doc.ents:\n",
    "            # check if the entity is an organization or a person\n",
    "            if ent.label_ == \"ORG\" or ent.label_ == \"PERSON\":\n",
    "                # create a new row for each entity found\n",
    "                expanded_rows.append({\n",
    "                    'target': row['target'],  \n",
    "                    'text': text,             \n",
    "                    'tokens': row['tokens'],  \n",
    "                    'sentiment': row['sentiment'],  \n",
    "                    'entity': ent.text,       \n",
    "                    'entity_type': ent.label_ \n",
    "                })\n",
    "\n",
    "    # create a new df from the expanded rows\n",
    "    expanded_df = pd.DataFrame(expanded_rows)\n",
    "    return expanded_df  # return the new DataFrame\n",
    "\n",
    "# call the function and create a new df with entities\n",
    "df_entities = entities_in_texts(df_pos)\n",
    "df_entities[[\"entity\",\"entity_type\"]].head() # display the new df"
   ]
  },
  {
   "cell_type": "markdown",
   "id": "e999277d",
   "metadata": {},
   "source": [
    "**Conclusion:**\n",
    "1. The spaCy model \"en_core_web_trf\" could find entities in tweets, but it doesn't do it really good.\n",
    "2. The reason why this model is not good for working with tweets could be that tweets are written in a specific language, while this model is not designed for specific textsts.\n",
    "3. Therefore, for working with tweets, it is better to use specialized models or train such models yourself.\n"
   ]
  },
  {
   "cell_type": "markdown",
   "id": "12b6661a",
   "metadata": {},
   "source": [
    "## Task №5"
   ]
  },
  {
   "cell_type": "markdown",
   "id": "03d7badf",
   "metadata": {},
   "source": [
    "For find most friquent organizations and persons in positive\n",
    "tweets lets  use pandas and counter.\n"
   ]
  },
  {
   "cell_type": "code",
   "execution_count": 16,
   "id": "51ce122e",
   "metadata": {},
   "outputs": [
    {
     "data": {
      "text/plain": [
       "entity\n",
       "Twitter        2\n",
       "BD             1\n",
       "@oziangie      1\n",
       "UP             1\n",
       "BBC iPlayer    1\n",
       "Name: count, dtype: int64"
      ]
     },
     "execution_count": 16,
     "metadata": {},
     "output_type": "execute_result"
    }
   ],
   "source": [
    "# most friquent organizations\n",
    "df_entities[df_entities['entity_type'] == 'ORG'] \\\n",
    "['entity'].value_counts().head(5)"
   ]
  },
  {
   "cell_type": "code",
   "execution_count": 17,
   "id": "92062782",
   "metadata": {},
   "outputs": [
    {
     "data": {
      "text/plain": [
       "entity\n",
       "@stephenfry       2\n",
       "@jesseowen        1\n",
       "@fraseredwards    1\n",
       "Gary              1\n",
       "alison            1\n",
       "Name: count, dtype: int64"
      ]
     },
     "execution_count": 17,
     "metadata": {},
     "output_type": "execute_result"
    }
   ],
   "source": [
    "# most friquent persons\n",
    "df_entities[df_entities['entity_type'] == 'PERSON'] \\\n",
    "['entity'].value_counts().head(5)"
   ]
  },
  {
   "cell_type": "markdown",
   "id": "8132e577",
   "metadata": {},
   "source": [
    "**Conclusion:**\n",
    "1. The most friquent ORG is Twitter\n",
    "2. The most friquent Person is @stephenfry  \n",
    "3. Some entities could be recognized with mistakes (e.g., 'urg', 'shell', etc.) because it is not specific to Twitter language."
   ]
  },
  {
   "cell_type": "markdown",
   "id": "6977c9b9",
   "metadata": {},
   "source": [
    "## Task №6"
   ]
  },
  {
   "cell_type": "markdown",
   "id": "1d029476",
   "metadata": {},
   "source": [
    "In this section we are going to perform k-means clustering of tweets with \n",
    "negative sentiments and use tf-idf function to rank important phrases."
   ]
  },
  {
   "cell_type": "code",
   "execution_count": 18,
   "id": "fc746623",
   "metadata": {},
   "outputs": [],
   "source": [
    "# filtering out positive tweets\n",
    "neg_tweets = df[df[\"sentiment\"]==\"Negative\"][\"processed_text\"]\n"
   ]
  },
  {
   "cell_type": "code",
   "execution_count": 19,
   "id": "ee330bd2",
   "metadata": {},
   "outputs": [
    {
     "name": "stdout",
     "output_type": "stream",
     "text": [
      "TF-IDF Matrix Shape: (598, 1696)\n"
     ]
    }
   ],
   "source": [
    "# converting the documents to a TF-IDF matrix\n",
    "vectorizer = TfidfVectorizer(stop_words='english')\n",
    "X = vectorizer.fit_transform(neg_tweets)\n",
    "\n",
    "print(\"TF-IDF Matrix Shape:\", X.shape)  # the shape of the matrix"
   ]
  },
  {
   "cell_type": "markdown",
   "id": "b12a4608",
   "metadata": {},
   "source": [
    "Before we do clustering we need to determine an optimal number of clusters (k) \n",
    "by the elbow method."
   ]
  },
  {
   "cell_type": "code",
   "execution_count": 20,
   "id": "e7eb2ce0",
   "metadata": {},
   "outputs": [
    {
     "data": {
      "image/png": "[encoded data removed]",
      "text/plain": [
       "<Figure size 500x300 with 1 Axes>"
      ]
     },
     "metadata": {},
     "output_type": "display_data"
    }
   ],
   "source": [
    "number_of_clusters=20\n",
    "wcss=[] # within-cluster sum of squares\n",
    "for i in range(1,number_of_clusters): \n",
    "     kmeans = KMeans(n_clusters=i, random_state=0)\n",
    "     kmeans.fit(X)\n",
    "     wcss.append(kmeans.inertia_)\n",
    "\n",
    "# plot the elbow \n",
    "plt.figure(figsize=(5, 3))\n",
    "plt.plot(range(1, number_of_clusters), wcss)\n",
    "plt.title('The Elbow Method Graph')\n",
    "plt.xlabel('Number of clusters')\n",
    "plt.ylabel('WCSS')\n",
    "plt.show()"
   ]
  },
  {
   "cell_type": "markdown",
   "id": "2d81c90f",
   "metadata": {},
   "source": [
    "Based on the graph above, we see an \"elbow\" at around k=6, after which the rate\n",
    "of change becomes smaller, so our best-fitting k is equal to 6."
   ]
  },
  {
   "cell_type": "code",
   "execution_count": 21,
   "id": "5cbf7fb5",
   "metadata": {},
   "outputs": [],
   "source": [
    "# performing k-means clustering\n",
    "num_clusters = 6\n",
    "kmeans = KMeans(n_clusters=num_clusters, random_state=42)\n",
    "kmeans.fit(X)\n",
    "labels = kmeans.labels_"
   ]
  },
  {
   "cell_type": "code",
   "execution_count": 22,
   "id": "c9efd03b",
   "metadata": {},
   "outputs": [
    {
     "data": {
      "image/png": "[encoded data removed]",
      "text/plain": [
       "<Figure size 500x300 with 1 Axes>"
      ]
     },
     "metadata": {},
     "output_type": "display_data"
    }
   ],
   "source": [
    "# reduce dimentionality for plotting\n",
    "tsne = TSNE(n_components=2, random_state=42)\n",
    "X_tsne = tsne.fit_transform(X.toarray())\n",
    "\n",
    "# plotting the clusters\n",
    "plt.figure(figsize=(5, 3))\n",
    "plt.scatter(X_tsne[:, 0], X_tsne[:, 1], c=labels, cmap='viridis', marker='o')\n",
    "\n",
    "# calculating the centroids of each cluster in the t-SNE space\n",
    "unique_labels = np.unique(labels)\n",
    "for cluster_label in unique_labels:\n",
    "    cluster_points = X_tsne[labels == cluster_label]  # Points in the cluster\n",
    "    centroid = cluster_points.mean(axis=0)  # Compute centroid\n",
    "    plt.text(centroid[0], centroid[1], str(cluster_label), fontsize=12, \n",
    "             fontweight='bold', ha='center', va='center', color='red')\n",
    "\n",
    "plt.title('t-SNE Visualization of Clusters')\n",
    "plt.show()"
   ]
  },
  {
   "cell_type": "markdown",
   "id": "98b54700",
   "metadata": {},
   "source": [
    "Looking at the graph we can see that the yellow cluster is dispersed, likely \n",
    "suggesting that there are a low of tweets sharing a general sentiment/topic. \n",
    "There are also clusters that are more defined which means they share more \n",
    "similarities between each other."
   ]
  },
  {
   "cell_type": "markdown",
   "id": "44a78c66",
   "metadata": {},
   "source": [
    "## Task №7"
   ]
  },
  {
   "cell_type": "code",
   "execution_count": 23,
   "id": "39c38f04",
   "metadata": {},
   "outputs": [
    {
     "name": "stdout",
     "output_type": "stream",
     "text": [
      "\n",
      "Cluster 0\n",
      "cincinnati,slang,mandy,understood,moore,right,come,swamped,year,wish\n",
      "\n",
      "Cluster 1\n",
      "home,tsk,buddy,babbbyyy,mcfly,honey,house,time,ill,miss\n",
      "\n",
      "Cluster 2\n",
      "rainy,hard,busy,need,school,till,today,bad,twitter,day\n",
      "\n",
      "Cluster 3\n",
      "flight,bread,night,morning,office,got,raining,today,tomorrow,work\n",
      "\n",
      "Cluster 4\n",
      "time,think,got,make,going,feel,dont,want,like,know\n",
      "\n",
      "Cluster 5\n",
      "come,tired,hungry,bored,sleep,hear,sick,sad,sorry,im\n"
     ]
    }
   ],
   "source": [
    "def get_top_keywords(n_terms):\n",
    "    # groups the TF-IDF vector by cluster\n",
    "    df = pd.DataFrame(X.todense()).groupby(labels).mean() \n",
    "    # access tf-idf terms\n",
    "    terms = vectorizer.get_feature_names_out() \n",
    "    # for each row, find the n terms that have the highest tf idf score\n",
    "    for i,r in df.iterrows():\n",
    "        print('\\nCluster {}'.format(i))\n",
    "        print(','.join([terms[t] for t in np.argsort(r)[-n_terms:]])) \n",
    "            \n",
    "get_top_keywords(10)"
   ]
  },
  {
   "cell_type": "markdown",
   "id": "d86b191b",
   "metadata": {},
   "source": [
    "The dispersed cluster (5) has words such as make/feel/like that are often used\n",
    "to express anything, including negative sentiments. Other clusters present words\n",
    "that are less used in general and are more specific, this explains why we have\n",
    "one very disperesed cluster and other more tightly packed clusters. Another \n",
    "point to note is that the top words in clusters cannot be summarised easily,\n",
    "thus it is hard to describe each cluster by one specific topic that is the most \n",
    "reccurent. This can be explained by the nature of tweets where people can be \n",
    "negative about so many different things that it becomes difficult to capture."
   ]
  },
  {
   "cell_type": "markdown",
   "id": "8b8f0bf4",
   "metadata": {},
   "source": [
    "## Conclusions"
   ]
  },
  {
   "cell_type": "markdown",
   "id": "5344ff25",
   "metadata": {},
   "source": [
    "To summarise our project's findings, text analysis is heavily reliant on tools\n",
    "suitable for particular purposes. Although preprocessing can help increase the \n",
    "quality of the analysis, the model and the data it was trained on also plays an\n",
    "important role. On the example of the tweets dataset we can see that models made\n",
    "for general text analysis are not as accurate with the unique language that is \n",
    "being used on social media, twitter especially. Moreover, regular procedures and\n",
    "tools used to preprocess the text might not work as well as expected due to such\n",
    "unique vocabulary and signs used to convey meaning and sentiment on social media. \n",
    "The main outtake is that for the purpose as specific as analysing tweets it is\n",
    "better to use models made specifically for that, although it is worth mentioning \n",
    "that common text analysis models do a decent enough job and can give a general\n",
    "understanding of what is going on in the dataset. "
   ]
  }
 ],
 "metadata": {
  "kernelspec": {
   "display_name": "Python 3 (ipykernel)",
   "language": "python",
   "name": "python3"
  },
  "language_info": {
   "codemirror_mode": {
    "name": "ipython",
    "version": 3
   },
   "file_extension": ".py",
   "mimetype": "text/x-python",
   "name": "python",
   "nbconvert_exporter": "python",
   "pygments_lexer": "ipython3",
   "version": "3.12.2"
  }
 },
 "nbformat": 4,
 "nbformat_minor": 5
}
