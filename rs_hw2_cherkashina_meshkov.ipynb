{
 "cells": [
  {
   "cell_type": "markdown",
   "id": "dea843de",
   "metadata": {},
   "source": [
    "# Homework information\n",
    "\n",
    "\n",
    "**Students:** Черкашина Елизавета Андреевна, Мешков Михаил Алексеевич\n",
    "\n",
    "**Master’s programme:** Data Analytics and Social Statistics\n",
    "\n",
    "**Task:**  Module 2. Hard skills project № 4 `Text analysis'\n",
    "\n",
    "**Date:** 17.12.2024  "
   ]
  },
  {
   "cell_type": "markdown",
   "id": "fc7fa887",
   "metadata": {},
   "source": [
    "## Information about environment versions\n",
    "\n",
    "- Python 3.12.7\n",
    "- Pandas 2.2.3\n",
    "- Matplotlib 3.9.2\n",
    "- Spacy 3.8.3\n",
    "- Scikit-learn  1.5.1\n",
    "- Seaborn 0.13.2\n",
    "- TextBlob 0.18.0\n"
   ]
  },
  {
   "cell_type": "markdown",
   "id": "a2583ebf",
   "metadata": {},
   "source": [
    "# Описание задачи (как сделаем можно убрать)"
   ]
  },
  {
   "cell_type": "markdown",
   "id": "11a53628",
   "metadata": {},
   "source": [
    "## Tasks\n",
    "**To receive 70 / 100 points (basic questions):**\n",
    "1. Load \"text\" and \"target\" columns to pandas dataframe. Pick random 1000 lines from the dataframe. Compute average text length, and dictionary size.\n",
    "2. Find POSITIVE and NEGATIVE texts using flair or spacy. Add sentiment classification result to the dataframe. Supply this section with sentiment label distribution chart and discussion.\n",
    "3. Compare spacy (or flair) results with the \"target\" column, build confusion matrix and discuss it.\n",
    "4. Find all PERSONs and ORGANISATIONs in POSITIVE texts and add them to your dataframe. If there are multiple entities inside one text create separate lines for each entity.\n",
    "5. Find the most frequent PERSON and ORGANISATION in positive texts.\n",
    "\n",
    "**To receive additional 30 / 100 points (advanced questions):**\n",
    "\n",
    "6. Cluster NEGATIVE texts using k-means clustering. Use tf-idf function to rank important phrases inside each document.\n",
    "7. Describe each NEGATIVE cluster with a list of key phrases or summary."
   ]
  },
  {
   "cell_type": "markdown",
   "id": "61b71eb9",
   "metadata": {},
   "source": [
    "## Submission format\n",
    "You should submit your project as the python notebook (.ipynb) file and supplementary pdf file, generated from the python notebook. All questions of the Task section should be covered with code and markdown comments that are supposed to give a brief idea about what is happening in the code below and brief results discussion. Your report should be no longer than 5 pages including pictures.\n",
    "\n",
    "* Each section (1-7) should be supported with introduction and conclusion/discussion markdown text to be considered done.\n",
    "* The code cells should be executed and do not contain compilation and logical mistakes, there should not be unnecessary code and unused libraries inside the notebook."
   ]
  },
  {
   "cell_type": "markdown",
   "id": "48d43851",
   "metadata": {},
   "source": [
    "## Tips and tricks\n",
    "\n",
    "You can use materials from practical sections of Module 5 “Contemporary Text Analysis”.\n",
    "In addition to that, below you can find the function to create a confusion matrix given the predicted and target columns in dataframe:\n",
    "``` python\n",
    "import pandas as pd\n",
    "def confusion_matrix(df: pd.DataFrame, col1: str, col2: str): return (df\n",
    ".groupby([col1, col2]) .size()\n",
    ".unstack(fill_value=0)\n",
    ") ```"
   ]
  },
  {
   "cell_type": "markdown",
   "id": "d45928f0",
   "metadata": {},
   "source": [
    "# Code"
   ]
  },
  {
   "cell_type": "markdown",
   "id": "3d0e3e8c",
   "metadata": {},
   "source": [
    "## Import libraries"
   ]
  },
  {
   "cell_type": "code",
   "execution_count": 1,
   "id": "ffad34d9",
   "metadata": {},
   "outputs": [],
   "source": [
    "#import libraries\n",
    "#import kagglehub\n",
    "import pandas as pd\n",
    "from matplotlib import pyplot as plt\n",
    "import spacy\n",
    "import seaborn as sns\n",
    "from sklearn.metrics import accuracy_score, classification_report\n",
    "from sklearn.metrics import confusion_matrix\n",
    "from sklearn.cluster import KMeans\n",
    "from sklearn.manifold import TSNE\n",
    "from sklearn.feature_extraction.text import TfidfVectorizer\n",
    "from textblob import TextBlob\n",
    "from nltk.corpus import stopwords\n",
    "from nltk.stem import WordNetLemmatizer\n",
    "from nltk.tokenize import TreebankWordTokenizer\n",
    "import nltk\n",
    "import re\n",
    "import string\n",
    "import numpy as np\n",
    "import warnings\n",
    "\n",
    "# disable warnings \n",
    "warnings.filterwarnings(\"ignore\")\n",
    "# making ggplot style\n",
    "plt.style.use('ggplot')"
   ]
  },
  {
   "cell_type": "code",
   "execution_count": 3,
   "id": "ca2b5fd5",
   "metadata": {},
   "outputs": [],
   "source": [
    "# download latest version dataset via API, for download uncomment\n",
    "\n",
    "#path = kagglehub.dataset_download(\"kazanova/sentiment140\")\n",
    "#print(\"Path to dataset files:\", path)"
   ]
  },
  {
   "cell_type": "markdown",
   "id": "baedc07d",
   "metadata": {},
   "source": [
    "## Task №1"
   ]
  },
  {
   "cell_type": "markdown",
   "id": "8ae71822",
   "metadata": {},
   "source": [
    "### 1.1 Load \"text\" and \"target\" columns to pandas. "
   ]
  },
  {
   "cell_type": "markdown",
   "id": "0a57121c",
   "metadata": {},
   "source": [
    "**Dataset description** from https://www.kaggle.com/datasets/kazanova/sentiment140/data\n",
    "\n",
    "**Context**\n",
    "\n",
    "This is the sentiment140 dataset. It contains 1,600,000 tweets extracted using the twitter api . The tweets have been annotated (0 = negative, 4 = positive) and they can be used to detect sentiment.\n",
    "\n",
    "**Content**\n",
    "\n",
    "It contains the following 6 fields:\n",
    "\n",
    "1. target: the polarity of the tweet (0 = negative, 2 = neutral, 4 = positive)\n",
    "\n",
    "2. ids: The id of the tweet ( 2087)\n",
    "\n",
    "3. date: the date of the tweet (Sat May 16 23:58:44 UTC 2009)\n",
    "\n",
    "4. flag: The query (lyx). If there is no query, then this value is NO_QUERY.\n",
    "\n",
    "5. user: the user that tweeted (robotickilldozr)\n",
    "\n",
    "6. text: the text of the tweet (Lyx is cool)\n",
    "\n"
   ]
  },
  {
   "cell_type": "code",
   "execution_count": 2,
   "id": "8399b74d",
   "metadata": {},
   "outputs": [],
   "source": [
    "# import data\n",
    "data = pd.read_csv('training.1600000.processed.noemoticon.csv', \n",
    "                 encoding='latin-1', \n",
    "                 names = [\"target\", \"ids\", \"date\", \"flag\", \"user\", \"text\"])"
   ]
  },
  {
   "cell_type": "code",
   "execution_count": 5,
   "id": "f1eceb01",
   "metadata": {},
   "outputs": [
    {
     "name": "stdout",
     "output_type": "stream",
     "text": [
      "<class 'pandas.core.frame.DataFrame'>\n",
      "RangeIndex: 1600000 entries, 0 to 1599999\n",
      "Data columns (total 6 columns):\n",
      " #   Column  Non-Null Count    Dtype \n",
      "---  ------  --------------    ----- \n",
      " 0   target  1600000 non-null  int64 \n",
      " 1   ids     1600000 non-null  int64 \n",
      " 2   date    1600000 non-null  object\n",
      " 3   flag    1600000 non-null  object\n",
      " 4   user    1600000 non-null  object\n",
      " 5   text    1600000 non-null  object\n",
      "dtypes: int64(2), object(4)\n",
      "memory usage: 73.2+ MB\n"
     ]
    }
   ],
   "source": [
    "# checking informathion about data\n",
    "data.info()"
   ]
  },
  {
   "cell_type": "code",
   "execution_count": 6,
   "id": "1a316ba3",
   "metadata": {},
   "outputs": [
    {
     "data": {
      "text/html": [
       "<div>\n",
       "<style scoped>\n",
       "    .dataframe tbody tr th:only-of-type {\n",
       "        vertical-align: middle;\n",
       "    }\n",
       "\n",
       "    .dataframe tbody tr th {\n",
       "        vertical-align: top;\n",
       "    }\n",
       "\n",
       "    .dataframe thead th {\n",
       "        text-align: right;\n",
       "    }\n",
       "</style>\n",
       "<table border=\"1\" class=\"dataframe\">\n",
       "  <thead>\n",
       "    <tr style=\"text-align: right;\">\n",
       "      <th></th>\n",
       "      <th>target</th>\n",
       "      <th>ids</th>\n",
       "      <th>date</th>\n",
       "      <th>flag</th>\n",
       "      <th>user</th>\n",
       "      <th>text</th>\n",
       "    </tr>\n",
       "  </thead>\n",
       "  <tbody>\n",
       "    <tr>\n",
       "      <th>0</th>\n",
       "      <td>0</td>\n",
       "      <td>1467810369</td>\n",
       "      <td>Mon Apr 06 22:19:45 PDT 2009</td>\n",
       "      <td>NO_QUERY</td>\n",
       "      <td>_TheSpecialOne_</td>\n",
       "      <td>@switchfoot http://twitpic.com/2y1zl - Awww, t...</td>\n",
       "    </tr>\n",
       "    <tr>\n",
       "      <th>1</th>\n",
       "      <td>0</td>\n",
       "      <td>1467810672</td>\n",
       "      <td>Mon Apr 06 22:19:49 PDT 2009</td>\n",
       "      <td>NO_QUERY</td>\n",
       "      <td>scotthamilton</td>\n",
       "      <td>is upset that he can't update his Facebook by ...</td>\n",
       "    </tr>\n",
       "    <tr>\n",
       "      <th>2</th>\n",
       "      <td>0</td>\n",
       "      <td>1467810917</td>\n",
       "      <td>Mon Apr 06 22:19:53 PDT 2009</td>\n",
       "      <td>NO_QUERY</td>\n",
       "      <td>mattycus</td>\n",
       "      <td>@Kenichan I dived many times for the ball. Man...</td>\n",
       "    </tr>\n",
       "    <tr>\n",
       "      <th>3</th>\n",
       "      <td>0</td>\n",
       "      <td>1467811184</td>\n",
       "      <td>Mon Apr 06 22:19:57 PDT 2009</td>\n",
       "      <td>NO_QUERY</td>\n",
       "      <td>ElleCTF</td>\n",
       "      <td>my whole body feels itchy and like its on fire</td>\n",
       "    </tr>\n",
       "    <tr>\n",
       "      <th>4</th>\n",
       "      <td>0</td>\n",
       "      <td>1467811193</td>\n",
       "      <td>Mon Apr 06 22:19:57 PDT 2009</td>\n",
       "      <td>NO_QUERY</td>\n",
       "      <td>Karoli</td>\n",
       "      <td>@nationwideclass no, it's not behaving at all....</td>\n",
       "    </tr>\n",
       "  </tbody>\n",
       "</table>\n",
       "</div>"
      ],
      "text/plain": [
       "   target         ids                          date      flag  \\\n",
       "0       0  1467810369  Mon Apr 06 22:19:45 PDT 2009  NO_QUERY   \n",
       "1       0  1467810672  Mon Apr 06 22:19:49 PDT 2009  NO_QUERY   \n",
       "2       0  1467810917  Mon Apr 06 22:19:53 PDT 2009  NO_QUERY   \n",
       "3       0  1467811184  Mon Apr 06 22:19:57 PDT 2009  NO_QUERY   \n",
       "4       0  1467811193  Mon Apr 06 22:19:57 PDT 2009  NO_QUERY   \n",
       "\n",
       "              user                                               text  \n",
       "0  _TheSpecialOne_  @switchfoot http://twitpic.com/2y1zl - Awww, t...  \n",
       "1    scotthamilton  is upset that he can't update his Facebook by ...  \n",
       "2         mattycus  @Kenichan I dived many times for the ball. Man...  \n",
       "3          ElleCTF    my whole body feels itchy and like its on fire   \n",
       "4           Karoli  @nationwideclass no, it's not behaving at all....  "
      ]
     },
     "execution_count": 6,
     "metadata": {},
     "output_type": "execute_result"
    }
   ],
   "source": [
    "# take a look at data\n",
    "data.head()"
   ]
  },
  {
   "cell_type": "markdown",
   "id": "0cc5e530",
   "metadata": {},
   "source": [
    "**Conclusion:**  data loaded correctly and contain and information same as at the description.\n"
   ]
  },
  {
   "cell_type": "code",
   "execution_count": 3,
   "id": "dd95ded0",
   "metadata": {},
   "outputs": [
    {
     "data": {
      "text/html": [
       "<div>\n",
       "<style scoped>\n",
       "    .dataframe tbody tr th:only-of-type {\n",
       "        vertical-align: middle;\n",
       "    }\n",
       "\n",
       "    .dataframe tbody tr th {\n",
       "        vertical-align: top;\n",
       "    }\n",
       "\n",
       "    .dataframe thead th {\n",
       "        text-align: right;\n",
       "    }\n",
       "</style>\n",
       "<table border=\"1\" class=\"dataframe\">\n",
       "  <thead>\n",
       "    <tr style=\"text-align: right;\">\n",
       "      <th></th>\n",
       "      <th>target</th>\n",
       "      <th>text</th>\n",
       "    </tr>\n",
       "  </thead>\n",
       "  <tbody>\n",
       "    <tr>\n",
       "      <th>0</th>\n",
       "      <td>4</td>\n",
       "      <td>Going to pic quick  join?</td>\n",
       "    </tr>\n",
       "    <tr>\n",
       "      <th>1</th>\n",
       "      <td>0</td>\n",
       "      <td>urg.  i should be somewhere I really want to b...</td>\n",
       "    </tr>\n",
       "    <tr>\n",
       "      <th>2</th>\n",
       "      <td>4</td>\n",
       "      <td>Help me!!!  Chanting NO CAKE NO CAKE!! LOL BD ...</td>\n",
       "    </tr>\n",
       "    <tr>\n",
       "      <th>3</th>\n",
       "      <td>0</td>\n",
       "      <td>@AritheGenius Awww,  we still love you though EB</td>\n",
       "    </tr>\n",
       "    <tr>\n",
       "      <th>4</th>\n",
       "      <td>4</td>\n",
       "      <td>trying to find my life again</td>\n",
       "    </tr>\n",
       "    <tr>\n",
       "      <th>...</th>\n",
       "      <td>...</td>\n",
       "      <td>...</td>\n",
       "    </tr>\n",
       "    <tr>\n",
       "      <th>995</th>\n",
       "      <td>0</td>\n",
       "      <td>my house has become a bar. i want to go to bed.</td>\n",
       "    </tr>\n",
       "    <tr>\n",
       "      <th>996</th>\n",
       "      <td>0</td>\n",
       "      <td>Very Stormy here. I don't like. This huge burs...</td>\n",
       "    </tr>\n",
       "    <tr>\n",
       "      <th>997</th>\n",
       "      <td>0</td>\n",
       "      <td>i miss mcfly...</td>\n",
       "    </tr>\n",
       "    <tr>\n",
       "      <th>998</th>\n",
       "      <td>4</td>\n",
       "      <td>@_speranza hehe I managed to swipe a wee day o...</td>\n",
       "    </tr>\n",
       "    <tr>\n",
       "      <th>999</th>\n",
       "      <td>4</td>\n",
       "      <td>yay long weekend - work til 1 then done until ...</td>\n",
       "    </tr>\n",
       "  </tbody>\n",
       "</table>\n",
       "<p>1000 rows × 2 columns</p>\n",
       "</div>"
      ],
      "text/plain": [
       "     target                                               text\n",
       "0         4                          Going to pic quick  join?\n",
       "1         0  urg.  i should be somewhere I really want to b...\n",
       "2         4  Help me!!!  Chanting NO CAKE NO CAKE!! LOL BD ...\n",
       "3         0   @AritheGenius Awww,  we still love you though EB\n",
       "4         4                      trying to find my life again \n",
       "..      ...                                                ...\n",
       "995       0   my house has become a bar. i want to go to bed. \n",
       "996       0  Very Stormy here. I don't like. This huge burs...\n",
       "997       0                                   i miss mcfly... \n",
       "998       4  @_speranza hehe I managed to swipe a wee day o...\n",
       "999       4  yay long weekend - work til 1 then done until ...\n",
       "\n",
       "[1000 rows x 2 columns]"
      ]
     },
     "execution_count": 3,
     "metadata": {},
     "output_type": "execute_result"
    }
   ],
   "source": [
    "# filter the columns we'll be working with\n",
    "data_filtered = data[[\"target\", \"text\"]]\n",
    "# filter the random 1000 rows and making final df for work\n",
    "df = data_filtered.sample(n=1000, random_state=42425).reset_index(drop=True)\n",
    "# take a look at final df\n",
    "df"
   ]
  },
  {
   "cell_type": "markdown",
   "id": "0a8561eb",
   "metadata": {},
   "source": [
    "**Conclusion:**  data frame for work have been made."
   ]
  },
  {
   "cell_type": "markdown",
   "id": "916c7e70",
   "metadata": {},
   "source": [
    "### 1.2 Compute average text length, and dictionary size. "
   ]
  },
  {
   "cell_type": "code",
   "execution_count": 4,
   "id": "302a77a7",
   "metadata": {
    "scrolled": true
   },
   "outputs": [],
   "source": [
    "# load model\n",
    "nlp = spacy.load(\"en_core_web_trf\")"
   ]
  },
  {
   "cell_type": "code",
   "execution_count": null,
   "id": "734a8d13",
   "metadata": {},
   "outputs": [],
   "source": [
    "# making anonymous function to find tokens\n",
    "df['tokens'] = df['text'].apply(lambda x: [token.text.lower() \n",
    "                                           for token in nlp(x) \n",
    "                                           if token.is_alpha])\n",
    "\n",
    "# calculate average text length\n",
    "total_length = df['tokens'].apply(len).sum()\n",
    "average_length = total_length / len(df)\n",
    "\n",
    "# finding unique tokens\n",
    "unique_tokens = set(token for tokens in df['tokens'] for token in tokens)\n",
    "dictionary_size = len(unique_tokens)"
   ]
  },
  {
   "cell_type": "code",
   "execution_count": 9,
   "id": "7cca6efc",
   "metadata": {},
   "outputs": [
    {
     "name": "stdout",
     "output_type": "stream",
     "text": [
      "\u001b[1mConclusion:\u001b[0m\n",
      "Average text length: 11.97 tokens\n",
      "Dictionary size: 2914 tokens\n"
     ]
    }
   ],
   "source": [
    "print (\"\\033[1mConclusion:\\033[0m\")\n",
    "print(f\"Average text length: {average_length:.2f} tokens\")\n",
    "print(f\"Dictionary size: {dictionary_size} tokens\")"
   ]
  },
  {
   "cell_type": "markdown",
   "id": "c8055582",
   "metadata": {},
   "source": [
    "## Task №2"
   ]
  },
  {
   "cell_type": "markdown",
   "id": "0f1430f3",
   "metadata": {},
   "source": [
    "In this section we are conducting our sentiment analysis. We chose to use the \n",
    "textblob pretrained model and preprocessed the data with spacy. \n",
    "We use textblob to produce negative/positive sentiment classification, \n",
    "which correlates well with our \"target\" column for easier comparison later on. \n",
    "Compared to some tools for sentiment analysis from spacy or other packages, \n",
    "this model is usually more accurate and convenient to use."
   ]
  },
  {
   "cell_type": "markdown",
   "id": "25cc9045",
   "metadata": {},
   "source": [
    "For this task and tasks 6 and 7 we are preprocessing our tweets since the \n",
    "functions used for these tasks do not perform these changes automatically. This\n",
    "is needed because tweets have a lot of special characters and words that are\n",
    "difficult for the model to interpret."
   ]
  },
  {
   "cell_type": "code",
   "execution_count": 26,
   "id": "d3d26009",
   "metadata": {},
   "outputs": [
    {
     "name": "stderr",
     "output_type": "stream",
     "text": [
      "[nltk_data] Downloading package stopwords to\n",
      "[nltk_data]     /Users/elizabethcherkashina/nltk_data...\n",
      "[nltk_data]   Package stopwords is already up-to-date!\n",
      "[nltk_data] Downloading package punkt to\n",
      "[nltk_data]     /Users/elizabethcherkashina/nltk_data...\n",
      "[nltk_data]   Unzipping tokenizers/punkt.zip.\n",
      "[nltk_data] Downloading package wordnet to\n",
      "[nltk_data]     /Users/elizabethcherkashina/nltk_data...\n",
      "[nltk_data]   Package wordnet is already up-to-date!\n"
     ]
    }
   ],
   "source": [
    "# preprocessing\n",
    "\n",
    "nltk.download('stopwords')\n",
    "nltk.download('punkt', force=True)\n",
    "nltk.download('wordnet')\n",
    "\n",
    "stop_words = set(stopwords.words('english'))\n",
    "lemmatizer = WordNetLemmatizer()\n",
    "tokenizer = TreebankWordTokenizer()\n",
    "\n",
    "def preprocess_tweet(tweet):\n",
    "    \n",
    "    # removing URLs\n",
    "    tweet = re.sub(r\"http\\S+|www\\S+|https\\S+\", \"\", tweet, flags=re.MULTILINE)\n",
    "    \n",
    "    # removing mentions and hashtags\n",
    "    tweet = re.sub(r\"@\\w+|#\\w+\", \"\", tweet)\n",
    "    \n",
    "    # removing punctuation and special characters\n",
    "    tweet = tweet.translate(str.maketrans(\"\", \"\", string.punctuation))\n",
    "    \n",
    "    # removing numbers\n",
    "    tweet = re.sub(r\"\\d+\", \"\", tweet)\n",
    "    \n",
    "    # converting text to lowercase\n",
    "    tweet = tweet.lower()\n",
    "    \n",
    "    # tokenizing the tweet\n",
    "    words = tokenizer.tokenize(tweet)\n",
    "    \n",
    "    # removing stopwords and lemmatize words\n",
    "    processed_words = [\n",
    "        lemmatizer.lemmatize(word) for word in words if word not in stop_words and len(word) > 1\n",
    "    ]\n",
    "    \n",
    "    # joining words back into a single string\n",
    "    return \" \".join(processed_words)\n",
    "\n",
    "df[\"processed_text\"] = df[\"text\"].apply(preprocess_tweet)"
   ]
  },
  {
   "cell_type": "code",
   "execution_count": 28,
   "id": "11623896",
   "metadata": {},
   "outputs": [
    {
     "data": {
      "text/plain": [
       "<Axes: xlabel='target', ylabel='count'>"
      ]
     },
     "execution_count": 28,
     "metadata": {},
     "output_type": "execute_result"
    },
    {
     "data": {
      "image/png": "[encoded data removed]",
      "text/plain": [
       "<Figure size 640x480 with 1 Axes>"
      ]
     },
     "metadata": {},
     "output_type": "display_data"
    }
   ],
   "source": [
    "# target column values (sentiment) count \n",
    "sns.countplot(x='target', data=df)"
   ]
  },
  {
   "cell_type": "markdown",
   "id": "7f97eceb",
   "metadata": {},
   "source": [
    "As we can see from the graph, the dataset has no tweets with neutral (target=2)\n",
    "sentiment. Thus, our model will be classifying tweets as positive and negative."
   ]
  },
  {
   "cell_type": "code",
   "execution_count": 6,
   "id": "95a78a73",
   "metadata": {},
   "outputs": [
    {
     "data": {
      "text/html": [
       "<div>\n",
       "<style scoped>\n",
       "    .dataframe tbody tr th:only-of-type {\n",
       "        vertical-align: middle;\n",
       "    }\n",
       "\n",
       "    .dataframe tbody tr th {\n",
       "        vertical-align: top;\n",
       "    }\n",
       "\n",
       "    .dataframe thead th {\n",
       "        text-align: right;\n",
       "    }\n",
       "</style>\n",
       "<table border=\"1\" class=\"dataframe\">\n",
       "  <thead>\n",
       "    <tr style=\"text-align: right;\">\n",
       "      <th></th>\n",
       "      <th>target</th>\n",
       "      <th>text</th>\n",
       "      <th>processed_text</th>\n",
       "      <th>sentiment</th>\n",
       "    </tr>\n",
       "  </thead>\n",
       "  <tbody>\n",
       "    <tr>\n",
       "      <th>0</th>\n",
       "      <td>4</td>\n",
       "      <td>Going to pic quick  join?</td>\n",
       "      <td>going pic quick join</td>\n",
       "      <td>Positive</td>\n",
       "    </tr>\n",
       "    <tr>\n",
       "      <th>1</th>\n",
       "      <td>0</td>\n",
       "      <td>urg.  i should be somewhere I really want to b...</td>\n",
       "      <td>urg somewhere really want im right</td>\n",
       "      <td>Positive</td>\n",
       "    </tr>\n",
       "    <tr>\n",
       "      <th>2</th>\n",
       "      <td>4</td>\n",
       "      <td>Help me!!!  Chanting NO CAKE NO CAKE!! LOL BD ...</td>\n",
       "      <td>help chanting cake cake lol bd celebration nee...</td>\n",
       "      <td>Positive</td>\n",
       "    </tr>\n",
       "    <tr>\n",
       "      <th>3</th>\n",
       "      <td>0</td>\n",
       "      <td>@AritheGenius Awww,  we still love you though EB</td>\n",
       "      <td>still love though eb</td>\n",
       "      <td>Positive</td>\n",
       "    </tr>\n",
       "    <tr>\n",
       "      <th>4</th>\n",
       "      <td>4</td>\n",
       "      <td>trying to find my life again</td>\n",
       "      <td>trying find life</td>\n",
       "      <td>Negative</td>\n",
       "    </tr>\n",
       "    <tr>\n",
       "      <th>...</th>\n",
       "      <td>...</td>\n",
       "      <td>...</td>\n",
       "      <td>...</td>\n",
       "      <td>...</td>\n",
       "    </tr>\n",
       "    <tr>\n",
       "      <th>995</th>\n",
       "      <td>0</td>\n",
       "      <td>my house has become a bar. i want to go to bed.</td>\n",
       "      <td>house become bar want go bed</td>\n",
       "      <td>Negative</td>\n",
       "    </tr>\n",
       "    <tr>\n",
       "      <th>996</th>\n",
       "      <td>0</td>\n",
       "      <td>Very Stormy here. I don't like. This huge burs...</td>\n",
       "      <td>stormy dont like huge burst thunder shook whol...</td>\n",
       "      <td>Positive</td>\n",
       "    </tr>\n",
       "    <tr>\n",
       "      <th>997</th>\n",
       "      <td>0</td>\n",
       "      <td>i miss mcfly...</td>\n",
       "      <td>miss mcfly</td>\n",
       "      <td>Negative</td>\n",
       "    </tr>\n",
       "    <tr>\n",
       "      <th>998</th>\n",
       "      <td>4</td>\n",
       "      <td>@_speranza hehe I managed to swipe a wee day o...</td>\n",
       "      <td>hehe managed swipe wee day moro wednesday week...</td>\n",
       "      <td>Negative</td>\n",
       "    </tr>\n",
       "    <tr>\n",
       "      <th>999</th>\n",
       "      <td>4</td>\n",
       "      <td>yay long weekend - work til 1 then done until ...</td>\n",
       "      <td>yay long weekend work til done wed</td>\n",
       "      <td>Negative</td>\n",
       "    </tr>\n",
       "  </tbody>\n",
       "</table>\n",
       "<p>1000 rows × 4 columns</p>\n",
       "</div>"
      ],
      "text/plain": [
       "     target                                               text  \\\n",
       "0         4                          Going to pic quick  join?   \n",
       "1         0  urg.  i should be somewhere I really want to b...   \n",
       "2         4  Help me!!!  Chanting NO CAKE NO CAKE!! LOL BD ...   \n",
       "3         0   @AritheGenius Awww,  we still love you though EB   \n",
       "4         4                      trying to find my life again    \n",
       "..      ...                                                ...   \n",
       "995       0   my house has become a bar. i want to go to bed.    \n",
       "996       0  Very Stormy here. I don't like. This huge burs...   \n",
       "997       0                                   i miss mcfly...    \n",
       "998       4  @_speranza hehe I managed to swipe a wee day o...   \n",
       "999       4  yay long weekend - work til 1 then done until ...   \n",
       "\n",
       "                                        processed_text sentiment  \n",
       "0                                 going pic quick join  Positive  \n",
       "1                   urg somewhere really want im right  Positive  \n",
       "2    help chanting cake cake lol bd celebration nee...  Positive  \n",
       "3                                 still love though eb  Positive  \n",
       "4                                     trying find life  Negative  \n",
       "..                                                 ...       ...  \n",
       "995                       house become bar want go bed  Negative  \n",
       "996  stormy dont like huge burst thunder shook whol...  Positive  \n",
       "997                                         miss mcfly  Negative  \n",
       "998  hehe managed swipe wee day moro wednesday week...  Negative  \n",
       "999                 yay long weekend work til done wed  Negative  \n",
       "\n",
       "[1000 rows x 4 columns]"
      ]
     },
     "execution_count": 6,
     "metadata": {},
     "output_type": "execute_result"
    }
   ],
   "source": [
    "# spacy/textblob sentiment analysis\n",
    "\n",
    "# sentiment classification function\n",
    "def get_sentiment(tweet):\n",
    "    # textblob for sentiment polarity\n",
    "    blob = TextBlob(tweet)\n",
    "    polarity = blob.sentiment.polarity  # polarity range is from -1 to 1 \n",
    "    if polarity > 0:\n",
    "        return \"Positive\"\n",
    "    else:\n",
    "        return \"Negative\"\n",
    "\n",
    "# applying sentiment function\n",
    "df[\"sentiment\"] = df[\"processed_text\"].apply(get_sentiment)\n",
    "\n",
    "# dataframe with results \n",
    "df"
   ]
  },
  {
   "cell_type": "code",
   "execution_count": 7,
   "id": "c83f18e2",
   "metadata": {},
   "outputs": [
    {
     "data": {
      "image/png": "[encoded data removed]",
      "text/plain": [
       "<Figure size 800x600 with 1 Axes>"
      ]
     },
     "metadata": {},
     "output_type": "display_data"
    }
   ],
   "source": [
    "# sentiment distribution for TextBlob results\n",
    "# number of tweets of each sentiment\n",
    "sentiment_counts = df[\"sentiment\"].value_counts()\n",
    "\n",
    "# Plot the sentiment distribution using a bar chart\n",
    "plt.figure(figsize=(8, 6))\n",
    "sns.barplot(x=sentiment_counts.index, y=sentiment_counts.values, \n",
    "            palette=\"coolwarm\")\n",
    "plt.title(\"Sentiment Distribution in Tweets (TextBlob)\", \n",
    "          fontsize=16)\n",
    "plt.xlabel(\"Sentiment\", fontsize=14)\n",
    "plt.ylabel(\"Count\", fontsize=14)\n",
    "plt.xticks(fontsize=12)\n",
    "plt.yticks(fontsize=12)\n",
    "plt.show()"
   ]
  },
  {
   "cell_type": "markdown",
   "id": "ed7b3044",
   "metadata": {},
   "source": [
    "From the graph we can see that the model classified more tweets as negative,\n",
    "while the target-indicated sentiments have almost equal number of negative and \n",
    "positive tweets. This gives us an idea that the model did not perform perfectly,\n",
    "which we will check in the next section."
   ]
  },
  {
   "cell_type": "markdown",
   "id": "16035f92",
   "metadata": {},
   "source": [
    "## Task №3"
   ]
  },
  {
   "cell_type": "markdown",
   "id": "8bca0c23",
   "metadata": {},
   "source": [
    "In this part we are comparing our model's sentiment analysis results with the\n",
    "\"target\" column provided in the original dataset. While the \"target\" column can\n",
    "have three possible values: 0 for negative, 2 for neutral, and 4 for positive \n",
    "tweets, in fact there are only negative and positive tweets, as discussed in the\n",
    "previous section."
   ]
  },
  {
   "cell_type": "code",
   "execution_count": 8,
   "id": "a4cfc47d",
   "metadata": {},
   "outputs": [
    {
     "name": "stdout",
     "output_type": "stream",
     "text": [
      "Accuracy: 60.90%\n",
      "\n",
      "Classification Report:\n",
      "               precision    recall  f1-score   support\n",
      "\n",
      "    Negative       0.59      0.71      0.64       503\n",
      "    Positive       0.63      0.51      0.57       497\n",
      "\n",
      "    accuracy                           0.61      1000\n",
      "   macro avg       0.61      0.61      0.60      1000\n",
      "weighted avg       0.61      0.61      0.61      1000\n",
      "\n"
     ]
    }
   ],
   "source": [
    "# mapping target numeric values \n",
    "sentiment_mapping = {0: \"Negative\", 4: \"Positive\"}\n",
    "df[\"target_map\"] = df[\"target\"].map(sentiment_mapping)\n",
    "\n",
    "# comparing sentiment results to the target\n",
    "accuracy = accuracy_score(df[\"target_map\"], df[\"sentiment\"])\n",
    "print(f\"Accuracy: {accuracy * 100:.2f}%\")\n",
    "\n",
    "# report on accuracy\n",
    "report = classification_report(\n",
    "    df[\"target_map\"], \n",
    "    df[\"sentiment\"], \n",
    "    target_names=[\"Negative\", \"Positive\"]\n",
    ")\n",
    "print(\"\\nClassification Report:\\n\", report)"
   ]
  },
  {
   "cell_type": "code",
   "execution_count": 9,
   "id": "aeb4ac29",
   "metadata": {},
   "outputs": [
    {
     "data": {
      "image/png": "[encoded data removed]",
      "text/plain": [
       "<Figure size 800x600 with 2 Axes>"
      ]
     },
     "metadata": {},
     "output_type": "display_data"
    }
   ],
   "source": [
    "# confusion matrix\n",
    "conf_matrix = confusion_matrix(df[\"target_map\"], df[\"sentiment\"], labels=[\"Negative\", \"Positive\"])\n",
    "conf_labels = [\"Negative\", \"Positive\"]\n",
    "\n",
    "# Visualizing the Confusion Matrix\n",
    "plt.figure(figsize=(8, 6))\n",
    "sns.heatmap(conf_matrix, annot=True, fmt=\"d\", cmap=\"Reds\", xticklabels=conf_labels, yticklabels=conf_labels)\n",
    "plt.xlabel(\"Predicted Sentiments\")\n",
    "plt.ylabel(\"Actual Sentiments\")\n",
    "plt.title(\"Confusion Matrix for Sentiment Analysis\")\n",
    "plt.show()"
   ]
  },
  {
   "cell_type": "markdown",
   "id": "84ee10fb",
   "metadata": {},
   "source": [
    "Overall, the accuracy of the model's analysis is around 60%.\n",
    "Based on the results we can conclude that the model is moderately accurate with\n",
    "negative and positive sentiment classification. This can be explained by the \n",
    "fact that vocabulary that people use on social media and on twitter specifically\n",
    "can be very different from the vocabulary used in the data that was used to \n",
    "train the model."
   ]
  },
  {
   "cell_type": "markdown",
   "id": "204794f4",
   "metadata": {},
   "source": [
    "## Task №4"
   ]
  },
  {
   "cell_type": "markdown",
   "id": "7bd7e7e8",
   "metadata": {},
   "source": [
    "For finding all persons and organizations in positive tweets, we will use spaCy.\n",
    "\n",
    "The spaCy model \"en_core_web_sm\" contains information about entities. \n",
    "By using it, we can find organizations or persons in tweets."
   ]
  },
  {
   "cell_type": "code",
   "execution_count": 14,
   "id": "f46a1914",
   "metadata": {},
   "outputs": [
    {
     "data": {
      "text/html": [
       "<div>\n",
       "<style scoped>\n",
       "    .dataframe tbody tr th:only-of-type {\n",
       "        vertical-align: middle;\n",
       "    }\n",
       "\n",
       "    .dataframe tbody tr th {\n",
       "        vertical-align: top;\n",
       "    }\n",
       "\n",
       "    .dataframe thead th {\n",
       "        text-align: right;\n",
       "    }\n",
       "</style>\n",
       "<table border=\"1\" class=\"dataframe\">\n",
       "  <thead>\n",
       "    <tr style=\"text-align: right;\">\n",
       "      <th></th>\n",
       "      <th>target</th>\n",
       "      <th>text</th>\n",
       "      <th>tokens</th>\n",
       "      <th>sentiment</th>\n",
       "      <th>f_sentiment</th>\n",
       "      <th>f_confidence</th>\n",
       "    </tr>\n",
       "  </thead>\n",
       "  <tbody>\n",
       "    <tr>\n",
       "      <th>0</th>\n",
       "      <td>4</td>\n",
       "      <td>Going to pic quick  join?</td>\n",
       "      <td>[going, to, pic, quick, join]</td>\n",
       "      <td>Positive</td>\n",
       "      <td>NEGATIVE</td>\n",
       "      <td>0.972909</td>\n",
       "    </tr>\n",
       "    <tr>\n",
       "      <th>1</th>\n",
       "      <td>0</td>\n",
       "      <td>urg.  i should be somewhere I really want to b...</td>\n",
       "      <td>[urg, i, should, be, somewhere, i, really, wan...</td>\n",
       "      <td>Positive</td>\n",
       "      <td>NEGATIVE</td>\n",
       "      <td>0.999929</td>\n",
       "    </tr>\n",
       "    <tr>\n",
       "      <th>2</th>\n",
       "      <td>4</td>\n",
       "      <td>Help me!!!  Chanting NO CAKE NO CAKE!! LOL BD ...</td>\n",
       "      <td>[help, me, chanting, no, cake, no, cake, lol, ...</td>\n",
       "      <td>Positive</td>\n",
       "      <td>POSITIVE</td>\n",
       "      <td>0.995531</td>\n",
       "    </tr>\n",
       "    <tr>\n",
       "      <th>3</th>\n",
       "      <td>0</td>\n",
       "      <td>@AritheGenius Awww,  we still love you though EB</td>\n",
       "      <td>[awww, we, still, love, you, though, eb]</td>\n",
       "      <td>Positive</td>\n",
       "      <td>POSITIVE</td>\n",
       "      <td>0.960257</td>\n",
       "    </tr>\n",
       "    <tr>\n",
       "      <th>6</th>\n",
       "      <td>0</td>\n",
       "      <td>God its hot, cant even take the girls to the p...</td>\n",
       "      <td>[god, its, hot, ca, nt, even, take, the, girls...</td>\n",
       "      <td>Positive</td>\n",
       "      <td>NEGATIVE</td>\n",
       "      <td>0.957133</td>\n",
       "    </tr>\n",
       "    <tr>\n",
       "      <th>...</th>\n",
       "      <td>...</td>\n",
       "      <td>...</td>\n",
       "      <td>...</td>\n",
       "      <td>...</td>\n",
       "      <td>...</td>\n",
       "      <td>...</td>\n",
       "    </tr>\n",
       "    <tr>\n",
       "      <th>991</th>\n",
       "      <td>4</td>\n",
       "      <td>@Trace027 YVW I am good  xx</td>\n",
       "      <td>[yvw, i, am, good, xx]</td>\n",
       "      <td>Positive</td>\n",
       "      <td>POSITIVE</td>\n",
       "      <td>0.972112</td>\n",
       "    </tr>\n",
       "    <tr>\n",
       "      <th>992</th>\n",
       "      <td>0</td>\n",
       "      <td>@cfdj71 @Lollyjay Ah come on u already got an ...</td>\n",
       "      <td>[ah, come, on, u, already, got, an, oh, am, al...</td>\n",
       "      <td>Positive</td>\n",
       "      <td>POSITIVE</td>\n",
       "      <td>0.939209</td>\n",
       "    </tr>\n",
       "    <tr>\n",
       "      <th>993</th>\n",
       "      <td>4</td>\n",
       "      <td>238, 265, 213 / 279, 285, 277 / 271, 291, 280 ...</td>\n",
       "      <td>[new, wold, records]</td>\n",
       "      <td>Positive</td>\n",
       "      <td>POSITIVE</td>\n",
       "      <td>0.999215</td>\n",
       "    </tr>\n",
       "    <tr>\n",
       "      <th>994</th>\n",
       "      <td>4</td>\n",
       "      <td>Wow. I'm @work already. I'm 45 minutes early! ...</td>\n",
       "      <td>[wow, i, already, i, minutes, early, lol, well...</td>\n",
       "      <td>Positive</td>\n",
       "      <td>POSITIVE</td>\n",
       "      <td>0.902167</td>\n",
       "    </tr>\n",
       "    <tr>\n",
       "      <th>996</th>\n",
       "      <td>0</td>\n",
       "      <td>Very Stormy here. I don't like. This huge burs...</td>\n",
       "      <td>[very, stormy, here, i, do, like, this, huge, ...</td>\n",
       "      <td>Positive</td>\n",
       "      <td>NEGATIVE</td>\n",
       "      <td>0.999862</td>\n",
       "    </tr>\n",
       "  </tbody>\n",
       "</table>\n",
       "<p>413 rows × 6 columns</p>\n",
       "</div>"
      ],
      "text/plain": [
       "     target                                               text  \\\n",
       "0         4                          Going to pic quick  join?   \n",
       "1         0  urg.  i should be somewhere I really want to b...   \n",
       "2         4  Help me!!!  Chanting NO CAKE NO CAKE!! LOL BD ...   \n",
       "3         0   @AritheGenius Awww,  we still love you though EB   \n",
       "6         0  God its hot, cant even take the girls to the p...   \n",
       "..      ...                                                ...   \n",
       "991       4                        @Trace027 YVW I am good  xx   \n",
       "992       0  @cfdj71 @Lollyjay Ah come on u already got an ...   \n",
       "993       4  238, 265, 213 / 279, 285, 277 / 271, 291, 280 ...   \n",
       "994       4  Wow. I'm @work already. I'm 45 minutes early! ...   \n",
       "996       0  Very Stormy here. I don't like. This huge burs...   \n",
       "\n",
       "                                                tokens sentiment f_sentiment  \\\n",
       "0                        [going, to, pic, quick, join]  Positive    NEGATIVE   \n",
       "1    [urg, i, should, be, somewhere, i, really, wan...  Positive    NEGATIVE   \n",
       "2    [help, me, chanting, no, cake, no, cake, lol, ...  Positive    POSITIVE   \n",
       "3             [awww, we, still, love, you, though, eb]  Positive    POSITIVE   \n",
       "6    [god, its, hot, ca, nt, even, take, the, girls...  Positive    NEGATIVE   \n",
       "..                                                 ...       ...         ...   \n",
       "991                             [yvw, i, am, good, xx]  Positive    POSITIVE   \n",
       "992  [ah, come, on, u, already, got, an, oh, am, al...  Positive    POSITIVE   \n",
       "993                               [new, wold, records]  Positive    POSITIVE   \n",
       "994  [wow, i, already, i, minutes, early, lol, well...  Positive    POSITIVE   \n",
       "996  [very, stormy, here, i, do, like, this, huge, ...  Positive    NEGATIVE   \n",
       "\n",
       "     f_confidence  \n",
       "0        0.972909  \n",
       "1        0.999929  \n",
       "2        0.995531  \n",
       "3        0.960257  \n",
       "6        0.957133  \n",
       "..            ...  \n",
       "991      0.972112  \n",
       "992      0.939209  \n",
       "993      0.999215  \n",
       "994      0.902167  \n",
       "996      0.999862  \n",
       "\n",
       "[413 rows x 6 columns]"
      ]
     },
     "execution_count": 14,
     "metadata": {},
     "output_type": "execute_result"
    }
   ],
   "source": [
    "# filter df by only positive tweets\n",
    "df_pos = df[df[\"sentiment\"] == \"Positive\"]\n",
    "df_pos"
   ]
  },
  {
   "cell_type": "code",
   "execution_count": 15,
   "id": "3fab9e4a",
   "metadata": {
    "scrolled": false
   },
   "outputs": [
    {
     "data": {
      "text/html": [
       "<div>\n",
       "<style scoped>\n",
       "    .dataframe tbody tr th:only-of-type {\n",
       "        vertical-align: middle;\n",
       "    }\n",
       "\n",
       "    .dataframe tbody tr th {\n",
       "        vertical-align: top;\n",
       "    }\n",
       "\n",
       "    .dataframe thead th {\n",
       "        text-align: right;\n",
       "    }\n",
       "</style>\n",
       "<table border=\"1\" class=\"dataframe\">\n",
       "  <thead>\n",
       "    <tr style=\"text-align: right;\">\n",
       "      <th></th>\n",
       "      <th>target</th>\n",
       "      <th>text</th>\n",
       "      <th>tokens</th>\n",
       "      <th>sentiment</th>\n",
       "      <th>entity</th>\n",
       "      <th>entity_type</th>\n",
       "    </tr>\n",
       "  </thead>\n",
       "  <tbody>\n",
       "    <tr>\n",
       "      <th>0</th>\n",
       "      <td>0</td>\n",
       "      <td>urg.  i should be somewhere I really want to b...</td>\n",
       "      <td>[urg, i, should, be, somewhere, i, really, wan...</td>\n",
       "      <td>Positive</td>\n",
       "      <td>urg</td>\n",
       "      <td>PERSON</td>\n",
       "    </tr>\n",
       "    <tr>\n",
       "      <th>1</th>\n",
       "      <td>4</td>\n",
       "      <td>Help me!!!  Chanting NO CAKE NO CAKE!! LOL BD ...</td>\n",
       "      <td>[help, me, chanting, no, cake, no, cake, lol, ...</td>\n",
       "      <td>Positive</td>\n",
       "      <td>BD</td>\n",
       "      <td>ORG</td>\n",
       "    </tr>\n",
       "    <tr>\n",
       "      <th>2</th>\n",
       "      <td>0</td>\n",
       "      <td>@AritheGenius Awww,  we still love you though EB</td>\n",
       "      <td>[awww, we, still, love, you, though, eb]</td>\n",
       "      <td>Positive</td>\n",
       "      <td>@AritheGenius</td>\n",
       "      <td>PERSON</td>\n",
       "    </tr>\n",
       "    <tr>\n",
       "      <th>3</th>\n",
       "      <td>0</td>\n",
       "      <td>@AritheGenius Awww,  we still love you though EB</td>\n",
       "      <td>[awww, we, still, love, you, though, eb]</td>\n",
       "      <td>Positive</td>\n",
       "      <td>EB</td>\n",
       "      <td>PERSON</td>\n",
       "    </tr>\n",
       "    <tr>\n",
       "      <th>4</th>\n",
       "      <td>0</td>\n",
       "      <td>@mitchelmusso so cool! if only i could call! m...</td>\n",
       "      <td>[so, cool, if, only, i, could, call, my, phone...</td>\n",
       "      <td>Positive</td>\n",
       "      <td>@mitchelmusso</td>\n",
       "      <td>PERSON</td>\n",
       "    </tr>\n",
       "    <tr>\n",
       "      <th>...</th>\n",
       "      <td>...</td>\n",
       "      <td>...</td>\n",
       "      <td>...</td>\n",
       "      <td>...</td>\n",
       "      <td>...</td>\n",
       "      <td>...</td>\n",
       "    </tr>\n",
       "    <tr>\n",
       "      <th>163</th>\n",
       "      <td>0</td>\n",
       "      <td>@lowrobb not only banned but people who love t...</td>\n",
       "      <td>[not, only, banned, but, people, who, love, to...</td>\n",
       "      <td>Positive</td>\n",
       "      <td>@lowrobb</td>\n",
       "      <td>PERSON</td>\n",
       "    </tr>\n",
       "    <tr>\n",
       "      <th>164</th>\n",
       "      <td>4</td>\n",
       "      <td>@zaydia i was tweeting from the parking lot in...</td>\n",
       "      <td>[i, was, tweeting, from, the, parking, lot, in...</td>\n",
       "      <td>Positive</td>\n",
       "      <td>@zaydia</td>\n",
       "      <td>PERSON</td>\n",
       "    </tr>\n",
       "    <tr>\n",
       "      <th>165</th>\n",
       "      <td>4</td>\n",
       "      <td>238, 265, 213 / 279, 285, 277 / 271, 291, 280 ...</td>\n",
       "      <td>[new, wold, records]</td>\n",
       "      <td>Positive</td>\n",
       "      <td>wold</td>\n",
       "      <td>ORG</td>\n",
       "    </tr>\n",
       "    <tr>\n",
       "      <th>166</th>\n",
       "      <td>4</td>\n",
       "      <td>Wow. I'm @work already. I'm 45 minutes early! ...</td>\n",
       "      <td>[wow, i, already, i, minutes, early, lol, well...</td>\n",
       "      <td>Positive</td>\n",
       "      <td>Pax</td>\n",
       "      <td>ORG</td>\n",
       "    </tr>\n",
       "    <tr>\n",
       "      <th>167</th>\n",
       "      <td>4</td>\n",
       "      <td>Wow. I'm @work already. I'm 45 minutes early! ...</td>\n",
       "      <td>[wow, i, already, i, minutes, early, lol, well...</td>\n",
       "      <td>Positive</td>\n",
       "      <td>Aubon</td>\n",
       "      <td>ORG</td>\n",
       "    </tr>\n",
       "  </tbody>\n",
       "</table>\n",
       "<p>168 rows × 6 columns</p>\n",
       "</div>"
      ],
      "text/plain": [
       "     target                                               text  \\\n",
       "0         0  urg.  i should be somewhere I really want to b...   \n",
       "1         4  Help me!!!  Chanting NO CAKE NO CAKE!! LOL BD ...   \n",
       "2         0   @AritheGenius Awww,  we still love you though EB   \n",
       "3         0   @AritheGenius Awww,  we still love you though EB   \n",
       "4         0  @mitchelmusso so cool! if only i could call! m...   \n",
       "..      ...                                                ...   \n",
       "163       0  @lowrobb not only banned but people who love t...   \n",
       "164       4  @zaydia i was tweeting from the parking lot in...   \n",
       "165       4  238, 265, 213 / 279, 285, 277 / 271, 291, 280 ...   \n",
       "166       4  Wow. I'm @work already. I'm 45 minutes early! ...   \n",
       "167       4  Wow. I'm @work already. I'm 45 minutes early! ...   \n",
       "\n",
       "                                                tokens sentiment  \\\n",
       "0    [urg, i, should, be, somewhere, i, really, wan...  Positive   \n",
       "1    [help, me, chanting, no, cake, no, cake, lol, ...  Positive   \n",
       "2             [awww, we, still, love, you, though, eb]  Positive   \n",
       "3             [awww, we, still, love, you, though, eb]  Positive   \n",
       "4    [so, cool, if, only, i, could, call, my, phone...  Positive   \n",
       "..                                                 ...       ...   \n",
       "163  [not, only, banned, but, people, who, love, to...  Positive   \n",
       "164  [i, was, tweeting, from, the, parking, lot, in...  Positive   \n",
       "165                               [new, wold, records]  Positive   \n",
       "166  [wow, i, already, i, minutes, early, lol, well...  Positive   \n",
       "167  [wow, i, already, i, minutes, early, lol, well...  Positive   \n",
       "\n",
       "            entity entity_type  \n",
       "0              urg      PERSON  \n",
       "1               BD         ORG  \n",
       "2    @AritheGenius      PERSON  \n",
       "3               EB      PERSON  \n",
       "4    @mitchelmusso      PERSON  \n",
       "..             ...         ...  \n",
       "163       @lowrobb      PERSON  \n",
       "164        @zaydia      PERSON  \n",
       "165           wold         ORG  \n",
       "166            Pax         ORG  \n",
       "167          Aubon         ORG  \n",
       "\n",
       "[168 rows x 6 columns]"
      ]
     },
     "execution_count": 15,
     "metadata": {},
     "output_type": "execute_result"
    }
   ],
   "source": [
    "def entities_in_texts(df):\n",
    "    # list to store new rows\n",
    "    expanded_rows = []\n",
    "\n",
    "    # iterate over each row in the df\n",
    "    for _, row in df.iterrows():\n",
    "        text = row['text']  # extract text from the current row\n",
    "        doc = nlp(text)     # process the text with the NLP model\n",
    "\n",
    "        # find entities in the processed text\n",
    "        for ent in doc.ents:\n",
    "            # check if the entity is an organization or a person\n",
    "            if ent.label_ == \"ORG\" or ent.label_ == \"PERSON\":\n",
    "                # create a new row for each entity found\n",
    "                expanded_rows.append({\n",
    "                    'target': row['target'],  \n",
    "                    'text': text,             \n",
    "                    'tokens': row['tokens'],  \n",
    "                    'sentiment': row['sentiment'],  \n",
    "                    'entity': ent.text,       \n",
    "                    'entity_type': ent.label_ \n",
    "                })\n",
    "\n",
    "    # create a new df from the expanded rows\n",
    "    expanded_df = pd.DataFrame(expanded_rows)\n",
    "    return expanded_df  # return the new DataFrame\n",
    "\n",
    "# call the function and create a new df with entities\n",
    "df_entities = entities_in_texts(df_pos)\n",
    "df_entities  # display the new df"
   ]
  },
  {
   "cell_type": "markdown",
   "id": "e999277d",
   "metadata": {},
   "source": [
    "**Conclusion:**\n",
    "1. The spaCy model \"en_core_web_trf\" could find entities in tweets, but it doesn't do it really good.\n",
    "2. The reason why this model is not good for working with tweets could be that tweets are written in a specific language, while this model is not designed for specific textsts.\n",
    "3. Therefore, for working with tweets, it is better to use specialized models or train such models yourself.\n"
   ]
  },
  {
   "cell_type": "markdown",
   "id": "12b6661a",
   "metadata": {},
   "source": [
    "## Task №5"
   ]
  },
  {
   "cell_type": "markdown",
   "id": "03d7badf",
   "metadata": {},
   "source": [
    "For find most friquent organizations and persons in positive\n",
    "tweets lets  use pandas and counter.\n"
   ]
  },
  {
   "cell_type": "code",
   "execution_count": 16,
   "id": "51ce122e",
   "metadata": {},
   "outputs": [
    {
     "data": {
      "text/plain": [
       "entity\n",
       "Twitter           2\n",
       "BD                1\n",
       "Wimbledon         1\n",
       "UP                1\n",
       "@Jonasbrothers    1\n",
       "Name: count, dtype: int64"
      ]
     },
     "execution_count": 16,
     "metadata": {},
     "output_type": "execute_result"
    }
   ],
   "source": [
    "# most friquent organizations\n",
    "df_entities[df_entities['entity_type'] == 'ORG'] \\\n",
    "['entity'].value_counts().head(5)"
   ]
  },
  {
   "cell_type": "code",
   "execution_count": 18,
   "id": "92062782",
   "metadata": {},
   "outputs": [
    {
     "data": {
      "text/plain": [
       "entity\n",
       "@stephenfry       2\n",
       "urg               1\n",
       "savage garden     1\n",
       "@fraseredwards    1\n",
       "Gary              1\n",
       "Name: count, dtype: int64"
      ]
     },
     "execution_count": 18,
     "metadata": {},
     "output_type": "execute_result"
    }
   ],
   "source": [
    "# most friquent persons\n",
    "df_entities[df_entities['entity_type'] == 'PERSON'] \\\n",
    "['entity'].value_counts().head(5)"
   ]
  },
  {
   "cell_type": "markdown",
   "id": "8132e577",
   "metadata": {},
   "source": [
    "**Conclusion:**\n",
    "1. The most friquent ORG is Twitter\n",
    "2. The most friquent Person is @stephenfry  \n",
    "3. Some entities could be recognized with mistakes (e.g., 'urg', 'shell', etc.) because it is not specific to Twitter language."
   ]
  },
  {
   "cell_type": "markdown",
   "id": "6977c9b9",
   "metadata": {},
   "source": [
    "## Task №6"
   ]
  },
  {
   "cell_type": "markdown",
   "id": "1d029476",
   "metadata": {},
   "source": [
    "In this section we are going to perform k-means clustering of tweets with \n",
    "negative sentiments and use tf-idf function to rank important phrases."
   ]
  },
  {
   "cell_type": "code",
   "execution_count": 10,
   "id": "fc746623",
   "metadata": {},
   "outputs": [
    {
     "data": {
      "text/plain": [
       "<bound method NDFrame.head of 4                                       trying find life\n",
       "5                           wtf bug bite cool effing bug\n",
       "10                 blame roofer leak architect long last\n",
       "12                                    got morning people\n",
       "13     hitting rock bottom stress sleep deprivation s...\n",
       "                             ...                        \n",
       "990                                 praying randy gnight\n",
       "995                         house become bar want go bed\n",
       "997                                           miss mcfly\n",
       "998    hehe managed swipe wee day moro wednesday week...\n",
       "999                   yay long weekend work til done wed\n",
       "Name: processed_text, Length: 598, dtype: object>"
      ]
     },
     "execution_count": 10,
     "metadata": {},
     "output_type": "execute_result"
    }
   ],
   "source": [
    "# filtering out positive tweets\n",
    "neg_tweets = df[df[\"sentiment\"]==\"Negative\"][\"processed_text\"]\n",
    "\n",
    "\n",
    "neg_tweets.head"
   ]
  },
  {
   "cell_type": "code",
   "execution_count": 11,
   "id": "ee330bd2",
   "metadata": {},
   "outputs": [
    {
     "name": "stdout",
     "output_type": "stream",
     "text": [
      "TF-IDF Matrix Shape: (598, 1696)\n"
     ]
    }
   ],
   "source": [
    "# converting the documents to a TF-IDF matrix\n",
    "vectorizer = TfidfVectorizer(stop_words='english')\n",
    "X = vectorizer.fit_transform(neg_tweets)\n",
    "\n",
    "print(\"TF-IDF Matrix Shape:\", X.shape)  # the shape of the matrix"
   ]
  },
  {
   "cell_type": "markdown",
   "id": "b12a4608",
   "metadata": {},
   "source": [
    "Before we do clustering we need to determine an optimal number of clusters (k) \n",
    "by the elbow method."
   ]
  },
  {
   "cell_type": "code",
   "execution_count": 21,
   "id": "e7eb2ce0",
   "metadata": {},
   "outputs": [
    {
     "data": {
      "image/png": "[encoded data removed]",
      "text/plain": [
       "<Figure size 640x480 with 1 Axes>"
      ]
     },
     "metadata": {},
     "output_type": "display_data"
    }
   ],
   "source": [
    "number_of_clusters=20\n",
    "wcss=[] # within-cluster sum of squares\n",
    "for i in range(1,number_of_clusters): \n",
    "     kmeans = KMeans(n_clusters=i, random_state=0)\n",
    "     kmeans.fit(X)\n",
    "     wcss.append(kmeans.inertia_)\n",
    "\n",
    "# plot the elbow \n",
    "plt.plot(range(1, number_of_clusters), wcss)\n",
    "plt.title('The Elbow Method Graph')\n",
    "plt.xlabel('Number of clusters')\n",
    "plt.ylabel('WCSS')\n",
    "plt.show()"
   ]
  },
  {
   "cell_type": "markdown",
   "id": "2d81c90f",
   "metadata": {},
   "source": [
    "Based on the graph above, we see an \"elbow\" at around k=6, after which the rate\n",
    "of change becomes smaller, so our best-fitting k is equal to 6."
   ]
  },
  {
   "cell_type": "code",
   "execution_count": 25,
   "id": "5cbf7fb5",
   "metadata": {},
   "outputs": [],
   "source": [
    "# performing k-means clustering\n",
    "num_clusters = 6\n",
    "kmeans = KMeans(n_clusters=num_clusters, random_state=42)\n",
    "kmeans.fit(X)\n",
    "labels = kmeans.labels_"
   ]
  },
  {
   "cell_type": "code",
   "execution_count": null,
   "id": "c9efd03b",
   "metadata": {},
   "outputs": [
    {
     "data": {
      "image/png": "[encoded data removed]",
      "text/plain": [
       "<Figure size 800x600 with 1 Axes>"
      ]
     },
     "metadata": {},
     "output_type": "display_data"
    }
   ],
   "source": [
    "# reduce dimentionality for plotting\n",
    "tsne = TSNE(n_components=2, random_state=42)\n",
    "X_tsne = tsne.fit_transform(X.toarray())\n",
    "\n",
    "# plotting the clusters\n",
    "plt.figure(figsize=(8, 6))\n",
    "plt.scatter(X_tsne[:, 0], X_tsne[:, 1], c=labels, cmap='viridis', marker='o')\n",
    "\n",
    "# calculating the centroids of each cluster in the t-SNE space\n",
    "unique_labels = np.unique(labels)\n",
    "for cluster_label in unique_labels:\n",
    "    cluster_points = X_tsne[labels == cluster_label]  # Points in the cluster\n",
    "    centroid = cluster_points.mean(axis=0)  # Compute centroid\n",
    "    plt.text(centroid[0], centroid[1], str(cluster_label), fontsize=12, \n",
    "             fontweight='bold', ha='center', va='center', color='red')\n",
    "\n",
    "plt.title('t-SNE Visualization of Clusters')\n",
    "plt.show()"
   ]
  },
  {
   "cell_type": "markdown",
   "id": "98b54700",
   "metadata": {},
   "source": [
    "Looking at the graph we can see that the yellow cluster is dispersed, likely \n",
    "suggesting that there are a low of tweets sharing a general sentiment/topic. \n",
    "There are also clusters that are more defined which means they share more \n",
    "similarities between each other."
   ]
  },
  {
   "cell_type": "markdown",
   "id": "44a78c66",
   "metadata": {},
   "source": [
    "## Task №7"
   ]
  },
  {
   "cell_type": "code",
   "execution_count": 32,
   "id": "39c38f04",
   "metadata": {},
   "outputs": [
    {
     "name": "stdout",
     "output_type": "stream",
     "text": [
      "\n",
      "Cluster 0\n",
      "cincinnati,slang,mandy,understood,moore,right,come,swamped,year,wish\n",
      "\n",
      "Cluster 1\n",
      "home,tsk,buddy,babbbyyy,mcfly,honey,house,time,ill,miss\n",
      "\n",
      "Cluster 2\n",
      "rainy,today,hard,busy,school,till,bad,need,twitter,day\n",
      "\n",
      "Cluster 3\n",
      "god,night,morning,office,raining,woken,today,oh,tomorrow,work\n",
      "\n",
      "Cluster 4\n",
      "cuz,news,coat,home,work,totally,hurt,today,finished,got\n",
      "\n",
      "Cluster 5\n",
      "na,sad,make,going,feel,dont,want,like,know,im\n"
     ]
    }
   ],
   "source": [
    "def get_top_keywords(n_terms):\n",
    "    df = pd.DataFrame(X.todense()).groupby(labels).mean() # groups the TF-IDF vector by cluster\n",
    "    terms = vectorizer.get_feature_names_out() # access tf-idf terms\n",
    "    for i,r in df.iterrows():\n",
    "        print('\\nCluster {}'.format(i))\n",
    "        print(','.join([terms[t] for t in np.argsort(r)[-n_terms:]])) # for each row of the dataframe, find the n terms that have the highest tf idf score\n",
    "            \n",
    "get_top_keywords(10)"
   ]
  },
  {
   "cell_type": "markdown",
   "id": "d86b191b",
   "metadata": {},
   "source": [
    "The dispersed cluster (5) has words such as make/feel/like that are often used\n",
    "to express anything, including negative sentiments. Other clusters present words\n",
    "that are less used in general and are more specific, this explains why we have\n",
    "one very disperesed cluster and other more tightly packed clusters. Another \n",
    "point to note is that the top words in clusters cannot be summarised easily,\n",
    "thus it is hard to describe each cluster by one specific topic that is the most \n",
    "reccurent. This can be explained by the nature of tweets where people can be \n",
    "negative about so many different things that it becomes difficult to capture."
   ]
  }
 ],
 "metadata": {
  "kernelspec": {
   "display_name": "test",
   "language": "python",
   "name": "python3"
  },
  "language_info": {
   "codemirror_mode": {
    "name": "ipython",
    "version": 3
   },
   "file_extension": ".py",
   "mimetype": "text/x-python",
   "name": "python",
   "nbconvert_exporter": "python",
   "pygments_lexer": "ipython3",
   "version": "3.12.2"
  }
 },
 "nbformat": 4,
 "nbformat_minor": 5
}
